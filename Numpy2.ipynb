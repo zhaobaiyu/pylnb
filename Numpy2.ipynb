{
 "cells": [
  {
   "cell_type": "code",
   "execution_count": 1,
   "metadata": {
    "collapsed": true,
    "deletable": true,
    "editable": true
   },
   "outputs": [],
   "source": [
    "from IPython.core.interactiveshell import InteractiveShell\n",
    "InteractiveShell.ast_node_interactivity = 'all'\n",
    "import numpy as np\n"
   ]
  },
  {
   "cell_type": "markdown",
   "metadata": {
    "deletable": true,
    "editable": true
   },
   "source": [
    "# 2.1 通用函数\n",
    "\n",
    "一种对ndarray的数据执行元素级运算的函数\n",
    "\n",
    "可以将其看作简单函数（接受一个或多个标量值，并产生一个或多个标量值）的矢量化包装器。"
   ]
  },
  {
   "cell_type": "markdown",
   "metadata": {
    "deletable": true,
    "editable": true
   },
   "source": [
    "### 一元ufunc\n",
    "\n",
    "函数 | 说明\n",
    "---- | ----\n",
    "`abs/absolute fabs` | 计算整数，浮点数或复数的**绝对值**，对于**非复数**，可以使用更快的fabs。\n",
    "`sqrt` | 计算各元素的**平方根**f，相当于`arr ** 0.5`\n",
    "`square` | 计算各元素**平方**，相当于`arr ** 2`\n",
    "`exp` | 计算各元素**指数** $e^x$\n",
    "`log log10 log2 log1p` | 分别为**自然对数**，**底数为10、2的log**，**log（1+x）**\n",
    "`sign` | 计算各元素的**正负号**： 1（正数），0（零），-1（负数）\n",
    "`ceil` | 计算各元素的ceiling值，即**大于等于该值的最小整数**\n",
    "`floor` | 计算各元素的floor值，即**小于等于该值的最大整数**\n",
    "`rint` | 将各元素**四舍五入**到最接近的整数，保留dtype\n",
    "`modf` | 将元素的**小数和整数部分**以两个独立数组的形式返回\n",
    "`isnan` | 返回一个表示**哪些值是NaN**的布尔型数组\n",
    "`isfinite` <br> `isinf`|分别返回一个表示**哪些元素是有穷的（非inf，非NaN）** <br> 或**哪些元素是无穷的（非NaN）**的布尔型数组\n",
    "`cos cosh sin sinh tan tanh` | **普通型**和**双曲型**三角函数\n",
    "`arccos arccosh` <br> `arcsin arcsinh` <br> `arctan arctanh` | 反三角函数\n",
    "`logical_not` | 计算各元素`not x`的真值，相当于`~arr`。（负号`-`表示已被弃用）"
   ]
  },
  {
   "cell_type": "code",
   "execution_count": 2,
   "metadata": {
    "collapsed": false,
    "deletable": true,
    "editable": true,
    "scrolled": false
   },
   "outputs": [
    {
     "data": {
      "text/plain": [
       "array([[ 1,  2,  3,  4,  5,  6],\n",
       "       [ 7,  8,  9, 10, 11, 12],\n",
       "       [13, 14, 15, 16, 17, 18],\n",
       "       [19, 20, 21, 22, 23, 24]])"
      ]
     },
     "execution_count": 2,
     "metadata": {},
     "output_type": "execute_result"
    },
    {
     "name": "stdout",
     "output_type": "stream",
     "text": [
      "\n",
      "abs, fabs\n"
     ]
    },
    {
     "data": {
      "text/plain": [
       "array([[ 1,  2,  3,  4,  5,  6],\n",
       "       [ 7,  8,  9, 10, 11, 12],\n",
       "       [13, 14, 15, 16, 17, 18],\n",
       "       [19, 20, 21, 22, 23, 24]])"
      ]
     },
     "execution_count": 2,
     "metadata": {},
     "output_type": "execute_result"
    },
    {
     "data": {
      "text/plain": [
       "array([[  1.,   2.,   3.,   4.,   5.,   6.],\n",
       "       [  7.,   8.,   9.,  10.,  11.,  12.],\n",
       "       [ 13.,  14.,  15.,  16.,  17.,  18.],\n",
       "       [ 19.,  20.,  21.,  22.,  23.,  24.]])"
      ]
     },
     "execution_count": 2,
     "metadata": {},
     "output_type": "execute_result"
    },
    {
     "name": "stdout",
     "output_type": "stream",
     "text": [
      "\n",
      "sqrt, square, exp\n"
     ]
    },
    {
     "data": {
      "text/plain": [
       "array([[ 1.        ,  1.41421356,  1.73205081,  2.        ,  2.23606798,\n",
       "         2.44948974],\n",
       "       [ 2.64575131,  2.82842712,  3.        ,  3.16227766,  3.31662479,\n",
       "         3.46410162],\n",
       "       [ 3.60555128,  3.74165739,  3.87298335,  4.        ,  4.12310563,\n",
       "         4.24264069],\n",
       "       [ 4.35889894,  4.47213595,  4.58257569,  4.69041576,  4.79583152,\n",
       "         4.89897949]])"
      ]
     },
     "execution_count": 2,
     "metadata": {},
     "output_type": "execute_result"
    },
    {
     "data": {
      "text/plain": [
       "array([[  1,   4,   9,  16,  25,  36],\n",
       "       [ 49,  64,  81, 100, 121, 144],\n",
       "       [169, 196, 225, 256, 289, 324],\n",
       "       [361, 400, 441, 484, 529, 576]])"
      ]
     },
     "execution_count": 2,
     "metadata": {},
     "output_type": "execute_result"
    },
    {
     "data": {
      "text/plain": [
       "array([[  2.71828183e+00,   7.38905610e+00,   2.00855369e+01,\n",
       "          5.45981500e+01,   1.48413159e+02,   4.03428793e+02],\n",
       "       [  1.09663316e+03,   2.98095799e+03,   8.10308393e+03,\n",
       "          2.20264658e+04,   5.98741417e+04,   1.62754791e+05],\n",
       "       [  4.42413392e+05,   1.20260428e+06,   3.26901737e+06,\n",
       "          8.88611052e+06,   2.41549528e+07,   6.56599691e+07],\n",
       "       [  1.78482301e+08,   4.85165195e+08,   1.31881573e+09,\n",
       "          3.58491285e+09,   9.74480345e+09,   2.64891221e+10]])"
      ]
     },
     "execution_count": 2,
     "metadata": {},
     "output_type": "execute_result"
    },
    {
     "name": "stdout",
     "output_type": "stream",
     "text": [
      "\n",
      "log, log10, log2, log1p\n"
     ]
    },
    {
     "data": {
      "text/plain": [
       "array([[ 0.        ,  0.69314718,  1.09861229,  1.38629436,  1.60943791,\n",
       "         1.79175947],\n",
       "       [ 1.94591015,  2.07944154,  2.19722458,  2.30258509,  2.39789527,\n",
       "         2.48490665],\n",
       "       [ 2.56494936,  2.63905733,  2.7080502 ,  2.77258872,  2.83321334,\n",
       "         2.89037176],\n",
       "       [ 2.94443898,  2.99573227,  3.04452244,  3.09104245,  3.13549422,\n",
       "         3.17805383]])"
      ]
     },
     "execution_count": 2,
     "metadata": {},
     "output_type": "execute_result"
    },
    {
     "data": {
      "text/plain": [
       "array([[ 0.        ,  0.30103   ,  0.47712125,  0.60205999,  0.69897   ,\n",
       "         0.77815125],\n",
       "       [ 0.84509804,  0.90308999,  0.95424251,  1.        ,  1.04139269,\n",
       "         1.07918125],\n",
       "       [ 1.11394335,  1.14612804,  1.17609126,  1.20411998,  1.23044892,\n",
       "         1.25527251],\n",
       "       [ 1.2787536 ,  1.30103   ,  1.32221929,  1.34242268,  1.36172784,\n",
       "         1.38021124]])"
      ]
     },
     "execution_count": 2,
     "metadata": {},
     "output_type": "execute_result"
    },
    {
     "data": {
      "text/plain": [
       "array([[ 0.        ,  1.        ,  1.5849625 ,  2.        ,  2.32192809,\n",
       "         2.5849625 ],\n",
       "       [ 2.80735492,  3.        ,  3.169925  ,  3.32192809,  3.45943162,\n",
       "         3.5849625 ],\n",
       "       [ 3.70043972,  3.80735492,  3.9068906 ,  4.        ,  4.08746284,\n",
       "         4.169925  ],\n",
       "       [ 4.24792751,  4.32192809,  4.39231742,  4.45943162,  4.52356196,\n",
       "         4.5849625 ]])"
      ]
     },
     "execution_count": 2,
     "metadata": {},
     "output_type": "execute_result"
    },
    {
     "data": {
      "text/plain": [
       "array([[ 0.69314718,  1.09861229,  1.38629436,  1.60943791,  1.79175947,\n",
       "         1.94591015],\n",
       "       [ 2.07944154,  2.19722458,  2.30258509,  2.39789527,  2.48490665,\n",
       "         2.56494936],\n",
       "       [ 2.63905733,  2.7080502 ,  2.77258872,  2.83321334,  2.89037176,\n",
       "         2.94443898],\n",
       "       [ 2.99573227,  3.04452244,  3.09104245,  3.13549422,  3.17805383,\n",
       "         3.21887582]])"
      ]
     },
     "execution_count": 2,
     "metadata": {},
     "output_type": "execute_result"
    },
    {
     "name": "stdout",
     "output_type": "stream",
     "text": [
      "\n",
      "sign, ceil, floor, rint, modf\n"
     ]
    },
    {
     "data": {
      "text/plain": [
       "array([[1, 1, 1, 1, 1, 1],\n",
       "       [1, 1, 1, 1, 1, 1],\n",
       "       [1, 1, 1, 1, 1, 1],\n",
       "       [1, 1, 1, 1, 1, 1]])"
      ]
     },
     "execution_count": 2,
     "metadata": {},
     "output_type": "execute_result"
    },
    {
     "data": {
      "text/plain": [
       "array([[  1.,   2.,   3.,   4.,   5.,   6.],\n",
       "       [  7.,   8.,   9.,  10.,  11.,  12.],\n",
       "       [ 13.,  14.,  15.,  16.,  17.,  18.],\n",
       "       [ 19.,  20.,  21.,  22.,  23.,  24.]])"
      ]
     },
     "execution_count": 2,
     "metadata": {},
     "output_type": "execute_result"
    },
    {
     "data": {
      "text/plain": [
       "array([[  1.,   2.,   3.,   4.,   5.,   6.],\n",
       "       [  7.,   8.,   9.,  10.,  11.,  12.],\n",
       "       [ 13.,  14.,  15.,  16.,  17.,  18.],\n",
       "       [ 19.,  20.,  21.,  22.,  23.,  24.]])"
      ]
     },
     "execution_count": 2,
     "metadata": {},
     "output_type": "execute_result"
    },
    {
     "data": {
      "text/plain": [
       "array([[  1.,   2.,   3.,   4.,   5.,   6.],\n",
       "       [  7.,   8.,   9.,  10.,  11.,  12.],\n",
       "       [ 13.,  14.,  15.,  16.,  17.,  18.],\n",
       "       [ 19.,  20.,  21.,  22.,  23.,  24.]])"
      ]
     },
     "execution_count": 2,
     "metadata": {},
     "output_type": "execute_result"
    },
    {
     "data": {
      "text/plain": [
       "(array([[ 0.,  0.,  0.,  0.,  0.,  0.],\n",
       "        [ 0.,  0.,  0.,  0.,  0.,  0.],\n",
       "        [ 0.,  0.,  0.,  0.,  0.,  0.],\n",
       "        [ 0.,  0.,  0.,  0.,  0.,  0.]]),\n",
       " array([[  1.,   2.,   3.,   4.,   5.,   6.],\n",
       "        [  7.,   8.,   9.,  10.,  11.,  12.],\n",
       "        [ 13.,  14.,  15.,  16.,  17.,  18.],\n",
       "        [ 19.,  20.,  21.,  22.,  23.,  24.]]))"
      ]
     },
     "execution_count": 2,
     "metadata": {},
     "output_type": "execute_result"
    }
   ],
   "source": [
    "arr = np.arange(1,25).reshape((4,6))\n",
    "arr\n",
    "print('\\nabs, fabs')\n",
    "np.abs(arr)\n",
    "np.fabs(arr)\n",
    "print('\\nsqrt, square, exp')\n",
    "np.sqrt(arr)\n",
    "np.square(arr)\n",
    "np.exp(arr)\n",
    "print('\\nlog, log10, log2, log1p')\n",
    "np.log(arr)\n",
    "np.log10(arr)\n",
    "np.log2(arr)\n",
    "np.log1p(arr)\n",
    "print('\\nsign, ceil, floor, rint, modf')\n",
    "np.sign(arr)\n",
    "np.ceil(arr)\n",
    "np.floor(arr)\n",
    "np.rint(arr)\n",
    "np.modf(arr)"
   ]
  },
  {
   "cell_type": "markdown",
   "metadata": {
    "deletable": true,
    "editable": true
   },
   "source": [
    "### 二元ufunc\n",
    "\n",
    "函数 | 说明\n",
    "---- | ----\n",
    "`add` | 将数组中对应的元素**相加**\n",
    "`subtract` | 从第一个数组中**减去**第二个数组中的元素\n",
    "`multiply` | 数组元素**相乘**\n",
    "`divide floor_divide` | **除法**或向下**圆整除法**（丢弃余数）\n",
    "`power` | 对第一个数组中的元素A，根据第二个数组中的相应元素B，计算**$A^B$**\n",
    "`maximum fmax` **不同于`max`** | 元素级的**最大值**计算，**fmax忽略NaN**\n",
    "`minimux fmin` **不同于`max`** | 元素级的**最小值**计算，**fmin将忽略NaN**\n",
    "`mod` | 元素级的**求模**计算\n",
    "`copysign` | 将第二个数组中的值的符号复制给第一个数组的值\n",
    "`greater greater_equal` <br> `less less_equal` <br> `equal not_equal` | 执行元素级比较运算，最终产生布尔型数组<br> 相当于中缀运算符`> >= < <= == !=`\n",
    "`logical_and logical_or logical_xor` | 执行元素级真值逻辑运算，相当于中缀运算符`&` &#124; `^`"
   ]
  },
  {
   "cell_type": "code",
   "execution_count": 3,
   "metadata": {
    "collapsed": false,
    "deletable": true,
    "editable": true
   },
   "outputs": [
    {
     "data": {
      "text/plain": [
       "array([ 0.33298671, -0.92644735,  1.24479124,  0.99574821, -0.71759762,\n",
       "        0.45910473, -0.51157876, -0.47532069])"
      ]
     },
     "execution_count": 3,
     "metadata": {},
     "output_type": "execute_result"
    },
    {
     "data": {
      "text/plain": [
       "array([-2.2374473 , -0.46805449, -0.26806816,  1.08968806, -1.53359159,\n",
       "       -0.01426899, -1.69419665,  0.26455164])"
      ]
     },
     "execution_count": 3,
     "metadata": {},
     "output_type": "execute_result"
    },
    {
     "name": "stdout",
     "output_type": "stream",
     "text": [
      "maximum\n"
     ]
    },
    {
     "data": {
      "text/plain": [
       "array([ 0.33298671, -0.46805449,  1.24479124,  1.08968806, -0.71759762,\n",
       "        0.45910473, -0.51157876,  0.26455164])"
      ]
     },
     "execution_count": 3,
     "metadata": {},
     "output_type": "execute_result"
    },
    {
     "name": "stdout",
     "output_type": "stream",
     "text": [
      "copysign\n"
     ]
    },
    {
     "data": {
      "text/plain": [
       "array([-0.33298671, -0.92644735, -1.24479124,  0.99574821, -0.71759762,\n",
       "       -0.45910473, -0.51157876,  0.47532069])"
      ]
     },
     "execution_count": 3,
     "metadata": {},
     "output_type": "execute_result"
    }
   ],
   "source": [
    "x = np.random.randn(8)\n",
    "y = np.random.randn(8)\n",
    "x\n",
    "y\n",
    "print('maximum')\n",
    "np.maximum(x, y)\n",
    "print('copysign')\n",
    "np.copysign(x, y)"
   ]
  },
  {
   "cell_type": "markdown",
   "metadata": {
    "deletable": true,
    "editable": true
   },
   "source": [
    "<br><br><br>\n",
    "# 2.2 利用数组进行数据处理"
   ]
  },
  {
   "cell_type": "markdown",
   "metadata": {},
   "source": [
    "### 生成网格数组"
   ]
  },
  {
   "cell_type": "code",
   "execution_count": 4,
   "metadata": {
    "collapsed": true,
    "deletable": true,
    "editable": true
   },
   "outputs": [],
   "source": [
    "x = np.arange(1, 11)\n",
    "y = np.arange(11, 15)"
   ]
  },
  {
   "cell_type": "code",
   "execution_count": 5,
   "metadata": {
    "collapsed": false,
    "deletable": true,
    "editable": true
   },
   "outputs": [
    {
     "data": {
      "text/plain": [
       "(array([ 1,  2,  3,  4,  5,  6,  7,  8,  9, 10]), array([11, 12, 13, 14]))"
      ]
     },
     "execution_count": 5,
     "metadata": {},
     "output_type": "execute_result"
    },
    {
     "data": {
      "text/plain": [
       "array([[ 1,  2,  3,  4,  5,  6,  7,  8,  9, 10],\n",
       "       [ 1,  2,  3,  4,  5,  6,  7,  8,  9, 10],\n",
       "       [ 1,  2,  3,  4,  5,  6,  7,  8,  9, 10],\n",
       "       [ 1,  2,  3,  4,  5,  6,  7,  8,  9, 10]])"
      ]
     },
     "execution_count": 5,
     "metadata": {},
     "output_type": "execute_result"
    },
    {
     "data": {
      "text/plain": [
       "array([[11, 11, 11, 11, 11, 11, 11, 11, 11, 11],\n",
       "       [12, 12, 12, 12, 12, 12, 12, 12, 12, 12],\n",
       "       [13, 13, 13, 13, 13, 13, 13, 13, 13, 13],\n",
       "       [14, 14, 14, 14, 14, 14, 14, 14, 14, 14]])"
      ]
     },
     "execution_count": 5,
     "metadata": {},
     "output_type": "execute_result"
    }
   ],
   "source": [
    "x, y\n",
    "xs, ys = np.meshgrid(x, y)\n",
    "xs\n",
    "ys"
   ]
  },
  {
   "cell_type": "code",
   "execution_count": 6,
   "metadata": {
    "collapsed": false,
    "deletable": true,
    "editable": true
   },
   "outputs": [
    {
     "data": {
      "text/plain": [
       "array([[-5.  , -5.  , -5.  , ..., -5.  , -5.  , -5.  ],\n",
       "       [-4.99, -4.99, -4.99, ..., -4.99, -4.99, -4.99],\n",
       "       [-4.98, -4.98, -4.98, ..., -4.98, -4.98, -4.98],\n",
       "       ..., \n",
       "       [ 4.97,  4.97,  4.97, ...,  4.97,  4.97,  4.97],\n",
       "       [ 4.98,  4.98,  4.98, ...,  4.98,  4.98,  4.98],\n",
       "       [ 4.99,  4.99,  4.99, ...,  4.99,  4.99,  4.99]])"
      ]
     },
     "execution_count": 6,
     "metadata": {},
     "output_type": "execute_result"
    },
    {
     "data": {
      "text/plain": [
       "array([[ 7.07106781,  7.06400028,  7.05693985, ...,  7.04988652,\n",
       "         7.05693985,  7.06400028],\n",
       "       [ 7.06400028,  7.05692568,  7.04985815, ...,  7.04279774,\n",
       "         7.04985815,  7.05692568],\n",
       "       [ 7.05693985,  7.04985815,  7.04278354, ...,  7.03571603,\n",
       "         7.04278354,  7.04985815],\n",
       "       ..., \n",
       "       [ 7.04988652,  7.04279774,  7.03571603, ...,  7.0286414 ,\n",
       "         7.03571603,  7.04279774],\n",
       "       [ 7.05693985,  7.04985815,  7.04278354, ...,  7.03571603,\n",
       "         7.04278354,  7.04985815],\n",
       "       [ 7.06400028,  7.05692568,  7.04985815, ...,  7.04279774,\n",
       "         7.04985815,  7.05692568]])"
      ]
     },
     "execution_count": 6,
     "metadata": {},
     "output_type": "execute_result"
    },
    {
     "data": {
      "text/plain": [
       "<matplotlib.image.AxesImage at 0x7fa575274e10>"
      ]
     },
     "execution_count": 6,
     "metadata": {},
     "output_type": "execute_result"
    },
    {
     "data": {
      "text/plain": [
       "<matplotlib.colorbar.Colorbar at 0x7fa5751f5048>"
      ]
     },
     "execution_count": 6,
     "metadata": {},
     "output_type": "execute_result"
    },
    {
     "data": {
      "text/plain": [
       "<matplotlib.text.Text at 0x7fa5752d0128>"
      ]
     },
     "execution_count": 6,
     "metadata": {},
     "output_type": "execute_result"
    },
    {
     "data": {
      "image/png": "[encoded data removed]",
      "text/plain": [
       "<matplotlib.figure.Figure at 0x7fa57aaffd30>"
      ]
     },
     "metadata": {},
     "output_type": "display_data"
    }
   ],
   "source": [
    "points = np.arange(-5, 5, 0.01)\n",
    "xs, ys = np.meshgrid(points, points)\n",
    "ys\n",
    "import matplotlib.pyplot as plt \n",
    "z = np.sqrt(xs ** 2 + ys ** 2)\n",
    "z\n",
    "plt.imshow(z, cmap=plt.cm.gray)\n",
    "plt.colorbar()\n",
    "plt.title('Image plot of $\\sqrt{x^2 + y^2}$ for a grid of values')\n",
    "plt.show()"
   ]
  },
  {
   "cell_type": "markdown",
   "metadata": {},
   "source": [
    "<br><br>\n",
    "## 将条件逻辑表述为数组运算"
   ]
  },
  {
   "cell_type": "code",
   "execution_count": 7,
   "metadata": {
    "collapsed": false
   },
   "outputs": [
    {
     "data": {
      "text/plain": [
       "array([ 1.1,  2.2,  1.3,  1.4,  2.5])"
      ]
     },
     "execution_count": 7,
     "metadata": {},
     "output_type": "execute_result"
    }
   ],
   "source": [
    "xarr = np.array([1.1, 1.2, 1.3, 1.4, 1.5])\n",
    "yarr = np.array([2.1, 2.2, 2.3, 2.4, 2.5])\n",
    "cond = np.array([True, False, True, True, False])\n",
    "result = np.where(cond, xarr, yarr)\n",
    "result"
   ]
  },
  {
   "cell_type": "code",
   "execution_count": 8,
   "metadata": {
    "collapsed": false
   },
   "outputs": [
    {
     "data": {
      "text/plain": [
       "array([[ 0.25737016,  0.26239397, -0.85767012,  0.12527191],\n",
       "       [ 0.46347822, -0.56754314, -0.47990475, -0.02238598],\n",
       "       [-0.46416484, -0.48428119,  0.72253011,  0.63291735],\n",
       "       [ 0.16648161,  0.22342564,  0.13148511,  1.48467766]])"
      ]
     },
     "execution_count": 8,
     "metadata": {},
     "output_type": "execute_result"
    },
    {
     "data": {
      "text/plain": [
       "array([[ 2,  2, -2,  2],\n",
       "       [ 2, -2, -2, -2],\n",
       "       [-2, -2,  2,  2],\n",
       "       [ 2,  2,  2,  2]])"
      ]
     },
     "execution_count": 8,
     "metadata": {},
     "output_type": "execute_result"
    },
    {
     "data": {
      "text/plain": [
       "array([[ 2.        ,  2.        , -0.85767012,  2.        ],\n",
       "       [ 2.        , -0.56754314, -0.47990475, -0.02238598],\n",
       "       [-0.46416484, -0.48428119,  2.        ,  2.        ],\n",
       "       [ 2.        ,  2.        ,  2.        ,  2.        ]])"
      ]
     },
     "execution_count": 8,
     "metadata": {},
     "output_type": "execute_result"
    }
   ],
   "source": [
    "arr = np.random.randn(4, 4)\n",
    "arr\n",
    "np.where(arr > 0, 2, -2)\n",
    "np.where(arr > 0, 2, arr)"
   ]
  },
  {
   "cell_type": "code",
   "execution_count": 9,
   "metadata": {
    "collapsed": false
   },
   "outputs": [
    {
     "data": {
      "text/plain": [
       "(array([False, False, False,  True,  True, False,  True, False,  True,  True], dtype=bool),\n",
       " array([ True,  True,  True, False,  True, False,  True,  True, False, False], dtype=bool))"
      ]
     },
     "execution_count": 9,
     "metadata": {},
     "output_type": "execute_result"
    },
    {
     "data": {
      "text/plain": [
       "array([2, 2, 2, 1, 0, 3, 0, 2, 1, 1])"
      ]
     },
     "execution_count": 9,
     "metadata": {},
     "output_type": "execute_result"
    },
    {
     "data": {
      "text/plain": [
       "array([2, 2, 2, 1, 0, 3, 0, 2, 1, 1])"
      ]
     },
     "execution_count": 9,
     "metadata": {},
     "output_type": "execute_result"
    }
   ],
   "source": [
    "# AMAZING!\n",
    "cond1 = np.random.choice([True, False], 10)\n",
    "cond2 = np.random.choice([True, False], 10)\n",
    "cond1, cond2\n",
    "np.where(cond1 & cond2, 0,\n",
    "        np.where(cond1, 1,\n",
    "                np.where(cond2, 2, 3)))\n",
    "\n",
    "# equal to, more AMAZING!!!\n",
    "1 * (cond1 & ~cond2) + 2 * (cond2 & ~cond1) + 3 * ~(cond1 | cond2)"
   ]
  },
  {
   "cell_type": "markdown",
   "metadata": {},
   "source": [
    "<br><br>\n",
    "## 数学和统计方法"
   ]
  },
  {
   "cell_type": "code",
   "execution_count": 10,
   "metadata": {
    "collapsed": false
   },
   "outputs": [
    {
     "data": {
      "text/plain": [
       "array([[ 0.1794952 ,  1.88824883, -0.2144876 , -0.87933993],\n",
       "       [ 0.43272209, -2.06227357, -0.34250026,  0.11369241],\n",
       "       [-0.31262435, -0.84538896, -1.23974023, -1.5806135 ],\n",
       "       [-1.08561188, -1.42359262,  1.88182557,  0.99796913],\n",
       "       [-0.53577399,  0.39265691, -2.37969499,  0.0668299 ]])"
      ]
     },
     "execution_count": 10,
     "metadata": {},
     "output_type": "execute_result"
    },
    {
     "data": {
      "text/plain": [
       "-0.34741009344173307"
      ]
     },
     "execution_count": 10,
     "metadata": {},
     "output_type": "execute_result"
    },
    {
     "data": {
      "text/plain": [
       "-0.34741009344173307"
      ]
     },
     "execution_count": 10,
     "metadata": {},
     "output_type": "execute_result"
    },
    {
     "data": {
      "text/plain": [
       "-6.9482018688346612"
      ]
     },
     "execution_count": 10,
     "metadata": {},
     "output_type": "execute_result"
    }
   ],
   "source": [
    "arr = np.random.randn(5, 4)\n",
    "arr\n",
    "arr.mean()\n",
    "np.mean(arr)\n",
    "arr.sum()"
   ]
  },
  {
   "cell_type": "code",
   "execution_count": 11,
   "metadata": {
    "collapsed": false
   },
   "outputs": [
    {
     "data": {
      "text/plain": [
       "array([ 0.24347912, -0.46458983, -0.99459176,  0.09264755, -0.61399555])"
      ]
     },
     "execution_count": 11,
     "metadata": {},
     "output_type": "execute_result"
    },
    {
     "data": {
      "text/plain": [
       "array([-1.32179295, -2.05034941, -2.29459751, -1.281462  ])"
      ]
     },
     "execution_count": 11,
     "metadata": {},
     "output_type": "execute_result"
    }
   ],
   "source": [
    "# 容易弄错的axis\n",
    "# axis=0，对于每列应用一个方法\n",
    "# axis=1，对于每行应用一个方法\n",
    "arr.mean(axis=1) # 返回每行的均值\n",
    "arr.sum(0) # 返回每列和"
   ]
  },
  {
   "cell_type": "code",
   "execution_count": 12,
   "metadata": {
    "collapsed": false
   },
   "outputs": [
    {
     "data": {
      "text/plain": [
       "array([[0, 1, 2],\n",
       "       [3, 4, 5],\n",
       "       [6, 7, 8]])"
      ]
     },
     "execution_count": 12,
     "metadata": {},
     "output_type": "execute_result"
    },
    {
     "data": {
      "text/plain": [
       "array([ 0,  1,  3,  6, 10, 15, 21, 28, 36])"
      ]
     },
     "execution_count": 12,
     "metadata": {},
     "output_type": "execute_result"
    },
    {
     "data": {
      "text/plain": [
       "array([0, 0, 0, 0, 0, 0, 0, 0, 0])"
      ]
     },
     "execution_count": 12,
     "metadata": {},
     "output_type": "execute_result"
    },
    {
     "data": {
      "text/plain": [
       "array([[ 0,  1,  2],\n",
       "       [ 3,  5,  7],\n",
       "       [ 9, 12, 15]])"
      ]
     },
     "execution_count": 12,
     "metadata": {},
     "output_type": "execute_result"
    },
    {
     "data": {
      "text/plain": [
       "array([[  0,   0,   0],\n",
       "       [  3,  12,  60],\n",
       "       [  6,  42, 336]])"
      ]
     },
     "execution_count": 12,
     "metadata": {},
     "output_type": "execute_result"
    }
   ],
   "source": [
    "arr = np.array([[0,1,2], [3,4,5], [6,7,8]])\n",
    "arr\n",
    "arr.cumsum() # 返回各元素累计和\n",
    "arr.cumprod() # 返回各元素累计积\n",
    "arr.cumsum(0) # 按列向下累计和\n",
    "arr.cumprod(1) # 按行向右累计积"
   ]
  },
  {
   "cell_type": "markdown",
   "metadata": {},
   "source": [
    "### 基本数组统计方法\n",
    "\n",
    "方法 | 说明\n",
    "--- | ---\n",
    "`sum` | 对数组中全部或某轴向的元素求和。 零长度数组的`sum`为0\n",
    "`mean` | 算数平均数。零长度数组的`mean`为NaN\n",
    "`std var` | 分别为标准差和方差，自由度可调，默认为n\n",
    "`min max` | 最大值和最小值\n",
    "`argmin argmax` | 最大和最小元素的索引\n",
    "`cumsum` | 所有元素的累计和\n",
    "`cumprod` | 所有元素的累计积"
   ]
  },
  {
   "cell_type": "markdown",
   "metadata": {},
   "source": [
    "### 用于布尔型数组的方法"
   ]
  },
  {
   "cell_type": "code",
   "execution_count": 13,
   "metadata": {
    "collapsed": false
   },
   "outputs": [
    {
     "data": {
      "text/plain": [
       "53"
      ]
     },
     "execution_count": 13,
     "metadata": {},
     "output_type": "execute_result"
    },
    {
     "data": {
      "text/plain": [
       "True"
      ]
     },
     "execution_count": 13,
     "metadata": {},
     "output_type": "execute_result"
    },
    {
     "data": {
      "text/plain": [
       "False"
      ]
     },
     "execution_count": 13,
     "metadata": {},
     "output_type": "execute_result"
    }
   ],
   "source": [
    "arr = np.random.randn(100)\n",
    "# sum用来对布尔型数组中的True计数\n",
    "(arr > 0).sum() \n",
    "# any 用于测试数组中是否存在一个或多个True\n",
    "# all 检查数组中是否都是True\n",
    "bools = np.array([False, False, True, False])\n",
    "bools.any()\n",
    "bools.all()\n",
    "# any 和 all 也可以用于非布尔型数组，所有非0元素将会被当作True"
   ]
  },
  {
   "cell_type": "markdown",
   "metadata": {},
   "source": [
    "### 排序\n",
    "\n",
    "np.sort返回的是数组的已排序的副本，而就地排序则会修改数组本身"
   ]
  },
  {
   "cell_type": "code",
   "execution_count": 14,
   "metadata": {
    "collapsed": false
   },
   "outputs": [
    {
     "data": {
      "text/plain": [
       "array([ 1.84369872, -0.60103476, -1.35053346, -0.13077279, -0.23402372,\n",
       "       -0.173228  ,  2.08432244, -0.0928865 ])"
      ]
     },
     "execution_count": 14,
     "metadata": {},
     "output_type": "execute_result"
    },
    {
     "data": {
      "text/plain": [
       "array([-1.35053346, -0.60103476, -0.23402372, -0.173228  , -0.13077279,\n",
       "       -0.0928865 ,  1.84369872,  2.08432244])"
      ]
     },
     "execution_count": 14,
     "metadata": {},
     "output_type": "execute_result"
    }
   ],
   "source": [
    "arr = np.random.randn(8)\n",
    "arr\n",
    "arr.sort()\n",
    "arr"
   ]
  },
  {
   "cell_type": "code",
   "execution_count": 15,
   "metadata": {
    "collapsed": false
   },
   "outputs": [
    {
     "data": {
      "text/plain": [
       "array([[ 0.35058372,  0.40375608, -0.42170143],\n",
       "       [ 0.90459164, -0.06663962, -0.54397651],\n",
       "       [ 0.41506245,  0.3964043 , -0.54667834],\n",
       "       [ 0.88853806, -0.37096054,  1.42149068],\n",
       "       [-0.67463142, -1.56804015, -2.11125925]])"
      ]
     },
     "execution_count": 15,
     "metadata": {},
     "output_type": "execute_result"
    },
    {
     "data": {
      "text/plain": [
       "array([[-0.42170143,  0.35058372,  0.40375608],\n",
       "       [-0.54397651, -0.06663962,  0.90459164],\n",
       "       [-0.54667834,  0.3964043 ,  0.41506245],\n",
       "       [-0.37096054,  0.88853806,  1.42149068],\n",
       "       [-2.11125925, -1.56804015, -0.67463142]])"
      ]
     },
     "execution_count": 15,
     "metadata": {},
     "output_type": "execute_result"
    }
   ],
   "source": [
    "# 多维数组可以在任何一个轴向上进行排序\n",
    "arr = np.random.randn(5,3)\n",
    "arr\n",
    "arr.sort(1)\n",
    "arr"
   ]
  },
  {
   "cell_type": "code",
   "execution_count": 16,
   "metadata": {
    "collapsed": false
   },
   "outputs": [
    {
     "data": {
      "text/plain": [
       "-1.5653590369339785"
      ]
     },
     "execution_count": 16,
     "metadata": {},
     "output_type": "execute_result"
    }
   ],
   "source": [
    "# 计算数组分位数最简单的方法是对其进行排序，然后选取特定位置的值\n",
    "large_arr = np.random.randn(1000)\n",
    "large_arr.sort()\n",
    "large_arr[int(0.05 * len(large_arr))] # 5% 分位数"
   ]
  },
  {
   "cell_type": "markdown",
   "metadata": {},
   "source": [
    "### 唯一化以及其他的集合逻辑"
   ]
  },
  {
   "cell_type": "code",
   "execution_count": 17,
   "metadata": {
    "collapsed": false
   },
   "outputs": [
    {
     "data": {
      "text/plain": [
       "array(['Bob', 'Joe', 'Will'], \n",
       "      dtype='<U4')"
      ]
     },
     "execution_count": 17,
     "metadata": {},
     "output_type": "execute_result"
    },
    {
     "data": {
      "text/plain": [
       "array([1, 2, 3, 4])"
      ]
     },
     "execution_count": 17,
     "metadata": {},
     "output_type": "execute_result"
    }
   ],
   "source": [
    "# np.unique 找出数组中的唯一值并返回已排序的结果\n",
    "names = np.array(['Bob', 'Joe', 'Will', 'Bob', 'Will', 'Joe', 'Joe'])\n",
    "np.unique(names)\n",
    "ints = np.array([3,3,3,2,2,1,1,4,4])\n",
    "np.unique(ints)"
   ]
  },
  {
   "cell_type": "code",
   "execution_count": 18,
   "metadata": {
    "collapsed": false
   },
   "outputs": [
    {
     "data": {
      "text/plain": [
       "array([ True, False, False,  True,  True, False,  True], dtype=bool)"
      ]
     },
     "execution_count": 18,
     "metadata": {},
     "output_type": "execute_result"
    }
   ],
   "source": [
    "# np.in1d 用于测试一个数组中的值在另一个数组中的成员资格，返回一个布尔型数组\n",
    "values = np.array([6,0,0,3,2,5,6])\n",
    "np.in1d(values, [2,3,6])"
   ]
  },
  {
   "cell_type": "markdown",
   "metadata": {},
   "source": [
    "### 数组的集合运算\n",
    "\n",
    "方法 | 说明\n",
    "--- | ---\n",
    "`unique(x)` | 计算x中的唯一元素，并返回有序结果\n",
    "`intersect1d(x,y)` | 计算x和y中的公共元素，并返回有序结果\n",
    "`union1d(x,y)` | 计算x和y的并集，并返回有序结果\n",
    "`in1d(x,y)` | 得到一个表示“x的元素是否包含与y”的布尔型数组\n",
    "`setdiff1d(x,y)` | 集合的差，即元素在x中且不在y中\n",
    "`setxor1d(x,y)` | 集合的对称差，即存在于一个数组中但不同时存在于两个数组中的元素（异或）"
   ]
  }
 ],
 "metadata": {
  "kernelspec": {
   "display_name": "Python 3",
   "language": "python",
   "name": "python3"
  },
  "language_info": {
   "codemirror_mode": {
    "name": "ipython",
    "version": 3
   },
   "file_extension": ".py",
   "mimetype": "text/x-python",
   "name": "python",
   "nbconvert_exporter": "python",
   "pygments_lexer": "ipython3",
   "version": "3.6.0"
  }
 },
 "nbformat": 4,
 "nbformat_minor": 2
}
