{
 "cells": [
  {
   "cell_type": "code",
   "execution_count": 2,
   "metadata": {
    "collapsed": true
   },
   "outputs": [],
   "source": [
    "from IPython.core.interactiveshell import InteractiveShell\n",
    "InteractiveShell.ast_node_interactivity = 'all'\n",
    "import numpy as np"
   ]
  },
  {
   "cell_type": "markdown",
   "metadata": {},
   "source": [
    "# 2.1 通用函数\n",
    "\n",
    "一种对ndarray的数据执行元素级运算的函数\n",
    "\n",
    "可以将其看作简单函数（接受一个或多个标量值，并产生一个或多个标量值）的矢量化包装器。"
   ]
  },
  {
   "cell_type": "markdown",
   "metadata": {},
   "source": [
    "### 一元ufunc\n",
    "\n",
    "函数 | 说明\n",
    "---- | ----\n",
    "`abs/absolute fabs` | 计算整数，浮点数或复数的**绝对值**，对于**非复数**，可以使用更快的fabs。\n",
    "`sqrt` | 计算各元素的**平方根**f，相当于`arr ** 0.5`\n",
    "`square` | 计算各元素**平方**，相当于`arr ** 2`\n",
    "`exp` | 计算各元素**指数** $e^x$\n",
    "`log log10 log2 log1p` | 分别为**自然对数**，**底数为10、2的log**，**log（1+x）**\n",
    "`sign` | 计算各元素的**正负号**： 1（正数），0（零），-1（负数）\n",
    "`ceil` | 计算各元素的ceiling值，即**大于等于该值的最小整数**\n",
    "`floor` | 计算各元素的floor值，即**小于等于该值的最大整数**\n",
    "`rint` | 将各元素**四舍五入**到最接近的整数，保留dtype\n",
    "`modf` | 将元素的**小数和整数部分**以两个独立数组的形式返回\n",
    "`isnan` | 返回一个表示**哪些值是NaN**的布尔型数组\n",
    "`isfinite` <br> `isinf`|分别返回一个表示**哪些元素是有穷的（非inf，非NaN）** <br> 或**哪些元素是无穷的（非NaN）**的布尔型数组\n",
    "`cos cosh sin sinh tan tanh` | **普通型**和**双曲型**三角函数\n",
    "`arccos arccosh` <br> `arcsin arcsinh` <br> `arctan arctanh` | 反三角函数\n",
    "`logical_not` | 计算各元素`not x`的真值，相当于`~arr`。（负号`-`表示已被弃用）"
   ]
  },
  {
   "cell_type": "code",
   "execution_count": 39,
   "metadata": {
    "collapsed": false,
    "scrolled": false
   },
   "outputs": [
    {
     "data": {
      "text/plain": [
       "array([[ 1,  2,  3,  4,  5,  6],\n",
       "       [ 7,  8,  9, 10, 11, 12],\n",
       "       [13, 14, 15, 16, 17, 18],\n",
       "       [19, 20, 21, 22, 23, 24]])"
      ]
     },
     "execution_count": 39,
     "metadata": {},
     "output_type": "execute_result"
    },
    {
     "name": "stdout",
     "output_type": "stream",
     "text": [
      "\n",
      "abs, fabs\n"
     ]
    },
    {
     "data": {
      "text/plain": [
       "array([[ 1,  2,  3,  4,  5,  6],\n",
       "       [ 7,  8,  9, 10, 11, 12],\n",
       "       [13, 14, 15, 16, 17, 18],\n",
       "       [19, 20, 21, 22, 23, 24]])"
      ]
     },
     "execution_count": 39,
     "metadata": {},
     "output_type": "execute_result"
    },
    {
     "data": {
      "text/plain": [
       "array([[  1.,   2.,   3.,   4.,   5.,   6.],\n",
       "       [  7.,   8.,   9.,  10.,  11.,  12.],\n",
       "       [ 13.,  14.,  15.,  16.,  17.,  18.],\n",
       "       [ 19.,  20.,  21.,  22.,  23.,  24.]])"
      ]
     },
     "execution_count": 39,
     "metadata": {},
     "output_type": "execute_result"
    },
    {
     "name": "stdout",
     "output_type": "stream",
     "text": [
      "\n",
      "sqrt, square, exp\n"
     ]
    },
    {
     "data": {
      "text/plain": [
       "array([[ 1.        ,  1.41421356,  1.73205081,  2.        ,  2.23606798,\n",
       "         2.44948974],\n",
       "       [ 2.64575131,  2.82842712,  3.        ,  3.16227766,  3.31662479,\n",
       "         3.46410162],\n",
       "       [ 3.60555128,  3.74165739,  3.87298335,  4.        ,  4.12310563,\n",
       "         4.24264069],\n",
       "       [ 4.35889894,  4.47213595,  4.58257569,  4.69041576,  4.79583152,\n",
       "         4.89897949]])"
      ]
     },
     "execution_count": 39,
     "metadata": {},
     "output_type": "execute_result"
    },
    {
     "data": {
      "text/plain": [
       "array([[  1,   4,   9,  16,  25,  36],\n",
       "       [ 49,  64,  81, 100, 121, 144],\n",
       "       [169, 196, 225, 256, 289, 324],\n",
       "       [361, 400, 441, 484, 529, 576]])"
      ]
     },
     "execution_count": 39,
     "metadata": {},
     "output_type": "execute_result"
    },
    {
     "data": {
      "text/plain": [
       "array([[  2.71828183e+00,   7.38905610e+00,   2.00855369e+01,\n",
       "          5.45981500e+01,   1.48413159e+02,   4.03428793e+02],\n",
       "       [  1.09663316e+03,   2.98095799e+03,   8.10308393e+03,\n",
       "          2.20264658e+04,   5.98741417e+04,   1.62754791e+05],\n",
       "       [  4.42413392e+05,   1.20260428e+06,   3.26901737e+06,\n",
       "          8.88611052e+06,   2.41549528e+07,   6.56599691e+07],\n",
       "       [  1.78482301e+08,   4.85165195e+08,   1.31881573e+09,\n",
       "          3.58491285e+09,   9.74480345e+09,   2.64891221e+10]])"
      ]
     },
     "execution_count": 39,
     "metadata": {},
     "output_type": "execute_result"
    },
    {
     "name": "stdout",
     "output_type": "stream",
     "text": [
      "\n",
      "log, log10, log2, log1p\n"
     ]
    },
    {
     "data": {
      "text/plain": [
       "array([[ 0.        ,  0.69314718,  1.09861229,  1.38629436,  1.60943791,\n",
       "         1.79175947],\n",
       "       [ 1.94591015,  2.07944154,  2.19722458,  2.30258509,  2.39789527,\n",
       "         2.48490665],\n",
       "       [ 2.56494936,  2.63905733,  2.7080502 ,  2.77258872,  2.83321334,\n",
       "         2.89037176],\n",
       "       [ 2.94443898,  2.99573227,  3.04452244,  3.09104245,  3.13549422,\n",
       "         3.17805383]])"
      ]
     },
     "execution_count": 39,
     "metadata": {},
     "output_type": "execute_result"
    },
    {
     "data": {
      "text/plain": [
       "array([[ 0.        ,  0.30103   ,  0.47712125,  0.60205999,  0.69897   ,\n",
       "         0.77815125],\n",
       "       [ 0.84509804,  0.90308999,  0.95424251,  1.        ,  1.04139269,\n",
       "         1.07918125],\n",
       "       [ 1.11394335,  1.14612804,  1.17609126,  1.20411998,  1.23044892,\n",
       "         1.25527251],\n",
       "       [ 1.2787536 ,  1.30103   ,  1.32221929,  1.34242268,  1.36172784,\n",
       "         1.38021124]])"
      ]
     },
     "execution_count": 39,
     "metadata": {},
     "output_type": "execute_result"
    },
    {
     "data": {
      "text/plain": [
       "array([[ 0.        ,  1.        ,  1.5849625 ,  2.        ,  2.32192809,\n",
       "         2.5849625 ],\n",
       "       [ 2.80735492,  3.        ,  3.169925  ,  3.32192809,  3.45943162,\n",
       "         3.5849625 ],\n",
       "       [ 3.70043972,  3.80735492,  3.9068906 ,  4.        ,  4.08746284,\n",
       "         4.169925  ],\n",
       "       [ 4.24792751,  4.32192809,  4.39231742,  4.45943162,  4.52356196,\n",
       "         4.5849625 ]])"
      ]
     },
     "execution_count": 39,
     "metadata": {},
     "output_type": "execute_result"
    },
    {
     "data": {
      "text/plain": [
       "array([[ 0.69314718,  1.09861229,  1.38629436,  1.60943791,  1.79175947,\n",
       "         1.94591015],\n",
       "       [ 2.07944154,  2.19722458,  2.30258509,  2.39789527,  2.48490665,\n",
       "         2.56494936],\n",
       "       [ 2.63905733,  2.7080502 ,  2.77258872,  2.83321334,  2.89037176,\n",
       "         2.94443898],\n",
       "       [ 2.99573227,  3.04452244,  3.09104245,  3.13549422,  3.17805383,\n",
       "         3.21887582]])"
      ]
     },
     "execution_count": 39,
     "metadata": {},
     "output_type": "execute_result"
    },
    {
     "name": "stdout",
     "output_type": "stream",
     "text": [
      "\n",
      "sign, ceil, floor, rint, modf\n"
     ]
    },
    {
     "data": {
      "text/plain": [
       "array([[1, 1, 1, 1, 1, 1],\n",
       "       [1, 1, 1, 1, 1, 1],\n",
       "       [1, 1, 1, 1, 1, 1],\n",
       "       [1, 1, 1, 1, 1, 1]])"
      ]
     },
     "execution_count": 39,
     "metadata": {},
     "output_type": "execute_result"
    },
    {
     "data": {
      "text/plain": [
       "array([[  1.,   2.,   3.,   4.,   5.,   6.],\n",
       "       [  7.,   8.,   9.,  10.,  11.,  12.],\n",
       "       [ 13.,  14.,  15.,  16.,  17.,  18.],\n",
       "       [ 19.,  20.,  21.,  22.,  23.,  24.]])"
      ]
     },
     "execution_count": 39,
     "metadata": {},
     "output_type": "execute_result"
    },
    {
     "data": {
      "text/plain": [
       "array([[  1.,   2.,   3.,   4.,   5.,   6.],\n",
       "       [  7.,   8.,   9.,  10.,  11.,  12.],\n",
       "       [ 13.,  14.,  15.,  16.,  17.,  18.],\n",
       "       [ 19.,  20.,  21.,  22.,  23.,  24.]])"
      ]
     },
     "execution_count": 39,
     "metadata": {},
     "output_type": "execute_result"
    },
    {
     "data": {
      "text/plain": [
       "array([[  1.,   2.,   3.,   4.,   5.,   6.],\n",
       "       [  7.,   8.,   9.,  10.,  11.,  12.],\n",
       "       [ 13.,  14.,  15.,  16.,  17.,  18.],\n",
       "       [ 19.,  20.,  21.,  22.,  23.,  24.]])"
      ]
     },
     "execution_count": 39,
     "metadata": {},
     "output_type": "execute_result"
    },
    {
     "data": {
      "text/plain": [
       "(array([[ 0.,  0.,  0.,  0.,  0.,  0.],\n",
       "        [ 0.,  0.,  0.,  0.,  0.,  0.],\n",
       "        [ 0.,  0.,  0.,  0.,  0.,  0.],\n",
       "        [ 0.,  0.,  0.,  0.,  0.,  0.]]),\n",
       " array([[  1.,   2.,   3.,   4.,   5.,   6.],\n",
       "        [  7.,   8.,   9.,  10.,  11.,  12.],\n",
       "        [ 13.,  14.,  15.,  16.,  17.,  18.],\n",
       "        [ 19.,  20.,  21.,  22.,  23.,  24.]]))"
      ]
     },
     "execution_count": 39,
     "metadata": {},
     "output_type": "execute_result"
    }
   ],
   "source": [
    "arr = np.arange(1,25).reshape((4,6))\n",
    "arr\n",
    "print('\\nabs, fabs')\n",
    "np.abs(arr)\n",
    "np.fabs(arr)\n",
    "print('\\nsqrt, square, exp')\n",
    "np.sqrt(arr)\n",
    "np.square(arr)\n",
    "np.exp(arr)\n",
    "print('\\nlog, log10, log2, log1p')\n",
    "np.log(arr)\n",
    "np.log10(arr)\n",
    "np.log2(arr)\n",
    "np.log1p(arr)\n",
    "print('\\nsign, ceil, floor, rint, modf')\n",
    "np.sign(arr)\n",
    "np.ceil(arr)\n",
    "np.floor(arr)\n",
    "np.rint(arr)\n",
    "np.modf(arr)"
   ]
  },
  {
   "cell_type": "markdown",
   "metadata": {},
   "source": [
    "### 二元ufunc\n",
    "\n",
    "函数 | 说明\n",
    "---- | ----\n",
    "`add` | 将数组中对应的元素**相加**\n",
    "`subtract` | 从第一个数组中**减去**第二个数组中的元素\n",
    "`multiply` | 数组元素**相乘**\n",
    "`divide floor_divide` | **除法**或向下**圆整除法**（丢弃余数）\n",
    "`power` | 对第一个数组中的元素A，根据第二个数组中的相应元素B，计算**$A^B$**\n",
    "`maximum fmax` **不同于`max`** | 元素级的**最大值**计算，**fmax忽略NaN**\n",
    "`minimux fmin` **不同于`max`** | 元素级的**最小值**计算，**fmin将忽略NaN**\n",
    "`mod` | 元素级的**求模**计算\n",
    "`copysign` | 将第二个数组中的值的符号复制给第一个数组的值\n",
    "`greater greater_equal` <br> `less less_equal` <br> `equal not_equal` | 执行元素级比较运算，最终产生布尔型数组<br> 相当于中缀运算符`> >= < <= == !=`\n",
    "`logical_and logical_or logical_xor` | 执行元素级真值逻辑运算，相当于中缀运算符`&` &#124; `^`"
   ]
  },
  {
   "cell_type": "code",
   "execution_count": 42,
   "metadata": {
    "collapsed": false
   },
   "outputs": [
    {
     "data": {
      "text/plain": [
       "array([-1.96571217, -1.03662525, -0.82455208, -0.28070542, -0.09035016,\n",
       "       -1.29690702,  0.37056986, -0.38679265])"
      ]
     },
     "execution_count": 42,
     "metadata": {},
     "output_type": "execute_result"
    },
    {
     "data": {
      "text/plain": [
       "array([-1.06249893,  1.76442241,  0.62123609,  0.71931986, -0.73944518,\n",
       "        1.4068079 ,  0.95730688, -0.79601175])"
      ]
     },
     "execution_count": 42,
     "metadata": {},
     "output_type": "execute_result"
    },
    {
     "name": "stdout",
     "output_type": "stream",
     "text": [
      "maximum\n"
     ]
    },
    {
     "data": {
      "text/plain": [
       "array([-1.06249893,  1.76442241,  0.62123609,  0.71931986, -0.09035016,\n",
       "        1.4068079 ,  0.95730688, -0.38679265])"
      ]
     },
     "execution_count": 42,
     "metadata": {},
     "output_type": "execute_result"
    },
    {
     "name": "stdout",
     "output_type": "stream",
     "text": [
      "copysign\n"
     ]
    },
    {
     "data": {
      "text/plain": [
       "array([-1.96571217,  1.03662525,  0.82455208,  0.28070542, -0.09035016,\n",
       "        1.29690702,  0.37056986, -0.38679265])"
      ]
     },
     "execution_count": 42,
     "metadata": {},
     "output_type": "execute_result"
    }
   ],
   "source": [
    "x = np.random.randn(8)\n",
    "y = np.random.randn(8)\n",
    "x\n",
    "y\n",
    "print('maximum')\n",
    "np.maximum(x, y)\n",
    "print('copysign')\n",
    "np.copysign(x, y)"
   ]
  },
  {
   "cell_type": "markdown",
   "metadata": {},
   "source": [
    "<br><br><br>\n",
    "# 2.2 利用数组进行数据处理"
   ]
  },
  {
   "cell_type": "code",
   "execution_count": 50,
   "metadata": {
    "collapsed": true
   },
   "outputs": [],
   "source": [
    "x = np.arange(1, 11)\n",
    "y = np.arange(11, 15)"
   ]
  },
  {
   "cell_type": "code",
   "execution_count": 51,
   "metadata": {
    "collapsed": false
   },
   "outputs": [
    {
     "data": {
      "text/plain": [
       "(array([ 1,  2,  3,  4,  5,  6,  7,  8,  9, 10]), array([11, 12, 13, 14]))"
      ]
     },
     "execution_count": 51,
     "metadata": {},
     "output_type": "execute_result"
    },
    {
     "data": {
      "text/plain": [
       "array([[ 1,  2,  3,  4,  5,  6,  7,  8,  9, 10],\n",
       "       [ 1,  2,  3,  4,  5,  6,  7,  8,  9, 10],\n",
       "       [ 1,  2,  3,  4,  5,  6,  7,  8,  9, 10],\n",
       "       [ 1,  2,  3,  4,  5,  6,  7,  8,  9, 10]])"
      ]
     },
     "execution_count": 51,
     "metadata": {},
     "output_type": "execute_result"
    },
    {
     "data": {
      "text/plain": [
       "array([[11, 11, 11, 11, 11, 11, 11, 11, 11, 11],\n",
       "       [12, 12, 12, 12, 12, 12, 12, 12, 12, 12],\n",
       "       [13, 13, 13, 13, 13, 13, 13, 13, 13, 13],\n",
       "       [14, 14, 14, 14, 14, 14, 14, 14, 14, 14]])"
      ]
     },
     "execution_count": 51,
     "metadata": {},
     "output_type": "execute_result"
    }
   ],
   "source": [
    "x, y\n",
    "xs, ys = np.meshgrid(x, y)\n",
    "xs\n",
    "ys"
   ]
  },
  {
   "cell_type": "code",
   "execution_count": null,
   "metadata": {
    "collapsed": true
   },
   "outputs": [],
   "source": []
  }
 ],
 "metadata": {
  "kernelspec": {
   "display_name": "Python 3",
   "language": "python",
   "name": "python3"
  },
  "language_info": {
   "codemirror_mode": {
    "name": "ipython",
    "version": 3
   },
   "file_extension": ".py",
   "mimetype": "text/x-python",
   "name": "python",
   "nbconvert_exporter": "python",
   "pygments_lexer": "ipython3",
   "version": "3.6.0"
  }
 },
 "nbformat": 4,
 "nbformat_minor": 2
}
