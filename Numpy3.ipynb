{
 "cells": [
  {
   "cell_type": "code",
   "execution_count": 1,
   "metadata": {
    "collapsed": false
   },
   "outputs": [],
   "source": [
    "from IPython.core.interactiveshell import InteractiveShell\n",
    "InteractiveShell.ast_node_interactivity = 'all'\n",
    "import numpy as np"
   ]
  },
  {
   "cell_type": "markdown",
   "metadata": {},
   "source": [
    "# 3.1 用于数组的文件输入输出"
   ]
  },
  {
   "cell_type": "markdown",
   "metadata": {},
   "source": [
    "## 将数组以二进制格式保存到磁盘\n",
    "\n",
    "`np.save` 和 `np.load` 是读写磁盘数组数据的两个主要函数\n",
    "\n",
    "默认情况下，数组是以未压缩的原始二进制格式保存在扩展名为`.npy`的文件中的。\n",
    "\n",
    "`np.savez` 可以将多个数组保存到一个压缩文件中，将数组以关键字参数的形式传入即可"
   ]
  },
  {
   "cell_type": "code",
   "execution_count": 2,
   "metadata": {
    "collapsed": false
   },
   "outputs": [
    {
     "data": {
      "text/plain": [
       "array([0, 1, 2, 3, 4, 5, 6, 7, 8, 9])"
      ]
     },
     "execution_count": 2,
     "metadata": {},
     "output_type": "execute_result"
    }
   ],
   "source": [
    "arr = np.arange(10)\n",
    "\n",
    "np.save('some_array', arr)\n",
    "np.load('some_array.npy')"
   ]
  },
  {
   "cell_type": "code",
   "execution_count": 3,
   "metadata": {
    "collapsed": false
   },
   "outputs": [
    {
     "data": {
      "text/plain": [
       "array([0, 1, 2, 3, 4, 5, 6, 7, 8, 9])"
      ]
     },
     "execution_count": 3,
     "metadata": {},
     "output_type": "execute_result"
    }
   ],
   "source": [
    "np.savez('array_archive.npz', a=arr, b=arr)\n",
    "# 加载.npz文件时，会得到一个类似字典的对象，该对象对各个数组进行延迟加载\n",
    "arch = np.load('array_archive.npz')\n",
    "arch['b']"
   ]
  },
  {
   "cell_type": "code",
   "execution_count": 4,
   "metadata": {
    "collapsed": false
   },
   "outputs": [],
   "source": [
    "import os \n",
    "for f in ['array_archive.npz', 'some_array.npy']:\n",
    "    os.remove(f)"
   ]
  },
  {
   "cell_type": "markdown",
   "metadata": {},
   "source": [
    "## 存取文本文件\n",
    "\n",
    "`np.loadtxt` \n",
    "\n",
    "`np.savetxt`\n",
    "\n",
    "`np.genfromtxt`"
   ]
  },
  {
   "cell_type": "code",
   "execution_count": 5,
   "metadata": {
    "collapsed": true
   },
   "outputs": [],
   "source": [
    "# arr = np.loadtxt('array_ex.txt', delimiter=',')\n",
    "# np.savetxt执行的是相反的操作，将数组写到以某种分隔符隔开的文本文件中"
   ]
  },
  {
   "cell_type": "markdown",
   "metadata": {},
   "source": [
    "<br><br><br>\n",
    "# 3.2 线性代数"
   ]
  },
  {
   "cell_type": "code",
   "execution_count": 6,
   "metadata": {
    "collapsed": false
   },
   "outputs": [
    {
     "data": {
      "text/plain": [
       "array([[ 1.,  2.,  3.],\n",
       "       [ 4.,  5.,  6.]])"
      ]
     },
     "execution_count": 6,
     "metadata": {},
     "output_type": "execute_result"
    },
    {
     "data": {
      "text/plain": [
       "array([[  6.,  23.],\n",
       "       [ -1.,   7.],\n",
       "       [  8.,   9.]])"
      ]
     },
     "execution_count": 6,
     "metadata": {},
     "output_type": "execute_result"
    },
    {
     "data": {
      "text/plain": [
       "array([[  28.,   64.],\n",
       "       [  67.,  181.]])"
      ]
     },
     "execution_count": 6,
     "metadata": {},
     "output_type": "execute_result"
    }
   ],
   "source": [
    "x = np.array([[1.,2.,3.], [4.,5.,6.]])\n",
    "y = np.array([[6.,23.], [-1, 7], [8, 9]])\n",
    "x\n",
    "y\n",
    "x.dot(y) # or np.dot(x, y)"
   ]
  },
  {
   "cell_type": "code",
   "execution_count": 7,
   "metadata": {
    "collapsed": false
   },
   "outputs": [
    {
     "data": {
      "text/plain": [
       "array([  6.,  15.])"
      ]
     },
     "execution_count": 7,
     "metadata": {},
     "output_type": "execute_result"
    }
   ],
   "source": [
    "# 二维数组跟一个大小合适的一维数组的矩阵点积后得到一维数组\n",
    "np.dot(x, np.ones(3))"
   ]
  },
  {
   "cell_type": "code",
   "execution_count": 8,
   "metadata": {
    "collapsed": false
   },
   "outputs": [
    {
     "data": {
      "text/plain": [
       "array([[ 0.89725049, -0.21313714,  0.78486733, -0.00255519, -0.14397198],\n",
       "       [-0.21313714,  1.05569583,  0.28903951,  0.53849548,  0.37313249],\n",
       "       [ 0.78486733,  0.28903951,  1.63715448,  0.34571921, -0.1841018 ],\n",
       "       [-0.00255519,  0.53849548,  0.34571921,  0.39725107,  0.13802863],\n",
       "       [-0.14397198,  0.37313249, -0.1841018 ,  0.13802863,  0.33043981]])"
      ]
     },
     "execution_count": 8,
     "metadata": {},
     "output_type": "execute_result"
    },
    {
     "data": {
      "text/plain": [
       "array([[  1.00000000e+00,   0.00000000e+00,  -1.66533454e-16,\n",
       "         -5.55111512e-17,   0.00000000e+00],\n",
       "       [ -2.22044605e-16,   1.00000000e+00,  -3.33066907e-16,\n",
       "          2.22044605e-16,   0.00000000e+00],\n",
       "       [  1.11022302e-16,  -3.33066907e-16,   1.00000000e+00,\n",
       "          0.00000000e+00,   0.00000000e+00],\n",
       "       [ -5.55111512e-17,   6.66133815e-16,   2.49800181e-16,\n",
       "          1.00000000e+00,   4.99600361e-16],\n",
       "       [  0.00000000e+00,  -4.44089210e-16,  -2.22044605e-16,\n",
       "          4.44089210e-16,   1.00000000e+00]])"
      ]
     },
     "execution_count": 8,
     "metadata": {},
     "output_type": "execute_result"
    },
    {
     "data": {
      "text/plain": [
       "array([[ -4.26533836,  -6.54343884,   3.60396016,   3.28226038,   7.3983154 ],\n",
       "       [  0.        ,  -7.09323519,  -0.70837325,  10.72376685,\n",
       "          3.90090747],\n",
       "       [  0.        ,   0.        ,  -1.51242539,   3.93566644,\n",
       "         -4.41031775],\n",
       "       [  0.        ,   0.        ,   0.        ,  -1.56104101,\n",
       "          1.15393388],\n",
       "       [  0.        ,   0.        ,   0.        ,   0.        ,\n",
       "          1.76201776]])"
      ]
     },
     "execution_count": 8,
     "metadata": {},
     "output_type": "execute_result"
    }
   ],
   "source": [
    "from numpy.linalg import inv, qr\n",
    "X = np.random.randn(5,5)\n",
    "mat = X.T.dot(X)\n",
    "inv(mat)\n",
    "mat.dot(inv(mat))\n",
    "q, r = qr(mat)\n",
    "r"
   ]
  },
  {
   "cell_type": "markdown",
   "metadata": {},
   "source": [
    "### 常用的线性代数函数\n",
    "\n",
    "#### numpy命名空间中的方法\n",
    "\n",
    "函数 | 说明\n",
    "--- | ---\n",
    "`diag` | 以一维数组的形式返回方阵的对角线（或非对角线）元素，<br>或将一维数组转换为方阵（非对角线元素为0）\n",
    "`dot` | 矩阵乘法\n",
    "`trace` | 对角线元素的和\n",
    "\n",
    "#### numpy.linalg 函数\n",
    "\n",
    "函数 | 说明\n",
    "--- | ---\n",
    "`det` | 计算矩阵行列式\n",
    "`eig` | 计算方阵的特征值和特征向量\n",
    "`inv` | 计算矩阵的逆\n",
    "`pinv` | 计算矩阵的Moore-Penrose伪逆\n",
    "`qr` | 计算QR分解\n",
    "`svd` | 计算奇异值分解(SVD)\n",
    "`solve` | 解线性方程组$Ax = b$，其中A为一个方阵\n",
    "`lstsq` | 计算$Ax = b$的最小二乘解"
   ]
  },
  {
   "cell_type": "markdown",
   "metadata": {},
   "source": [
    "<br><br><br>\n",
    "# 3.2 随机数生成"
   ]
  },
  {
   "cell_type": "code",
   "execution_count": 9,
   "metadata": {
    "collapsed": false
   },
   "outputs": [
    {
     "data": {
      "text/plain": [
       "array([[-1.24709117, -1.01705839, -0.88832428, -1.25288055],\n",
       "       [-1.04098613,  0.4174277 , -0.42381768, -0.66490345],\n",
       "       [ 1.10180005, -0.9287201 , -1.21345075, -1.4253554 ],\n",
       "       [ 0.11408865,  1.34749776,  0.73270568, -1.11160727]])"
      ]
     },
     "execution_count": 9,
     "metadata": {},
     "output_type": "execute_result"
    }
   ],
   "source": [
    "# normal 得到标准正态分布\n",
    "samples = np.random.normal(size=(4,4))\n",
    "samples"
   ]
  },
  {
   "cell_type": "code",
   "execution_count": 10,
   "metadata": {
    "collapsed": false
   },
   "outputs": [
    {
     "name": "stdout",
     "output_type": "stream",
     "text": [
      "1 loop, best of 3: 1.45 s per loop\n",
      "10 loops, best of 3: 71.2 ms per loop\n"
     ]
    }
   ],
   "source": [
    "from random import normalvariate\n",
    "N = 1000000\n",
    "%timeit samples = [normalvariate(0,1) for _ in range(N)]\n",
    "%timeit np.random.normal(size=N)"
   ]
  },
  {
   "cell_type": "markdown",
   "metadata": {},
   "source": [
    "### 部分numpy.random函数\n",
    "\n",
    "函数 | 说明\n",
    "--- | ---\n",
    "`seed` | 确定随机数生成器的种子\n",
    "`permutation` | 返回一个序列的随机排列或返回一个随机排列的范围\n",
    "`shuffle` | 对一个序列就地随机排列\n",
    "`rand` | 产生均匀分布的样本值\n",
    "`randint` | 从给定的上下限范围内随机选取整数\n",
    "`randn` | 产生正态分布（平均值为0，标准差为1）的样本值\n",
    "`binomial` | 产生二项分布的样本值\n",
    "`normal` | 产生正态（高斯）分布的样本值\n",
    "`beta` | 产生Beta分布的样本值\n",
    "`chisquare` | 产生卡方分布的样本值\n",
    "`gamma` | 产生Gamma分布的样本值\n",
    "`uniform` | 产生在[0, 1)中均匀分布的样本值"
   ]
  }
 ],
 "metadata": {
  "kernelspec": {
   "display_name": "Python 3",
   "language": "python",
   "name": "python3"
  },
  "language_info": {
   "codemirror_mode": {
    "name": "ipython",
    "version": 3
   },
   "file_extension": ".py",
   "mimetype": "text/x-python",
   "name": "python",
   "nbconvert_exporter": "python",
   "pygments_lexer": "ipython3",
   "version": "3.6.0"
  }
 },
 "nbformat": 4,
 "nbformat_minor": 2
}
